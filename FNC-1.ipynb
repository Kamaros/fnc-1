{
 "cells": [
  {
   "cell_type": "code",
   "execution_count": 1,
   "metadata": {},
   "outputs": [
    {
     "name": "stderr",
     "output_type": "stream",
     "text": [
      "Widget Javascript not detected.  It may not be installed or enabled properly.\n"
     ]
    },
    {
     "data": {
      "application/vnd.jupyter.widget-view+json": {
       "model_id": "ec223d8cc57d43d69068412106a446fe"
      }
     },
     "metadata": {},
     "output_type": "display_data"
    },
    {
     "name": "stderr",
     "output_type": "stream",
     "text": [
      "Widget Javascript not detected.  It may not be installed or enabled properly.\n"
     ]
    },
    {
     "data": {
      "application/vnd.jupyter.widget-view+json": {
       "model_id": "1a53482c86084d41871aaf302f053f7b"
      }
     },
     "metadata": {},
     "output_type": "display_data"
    },
    {
     "name": "stderr",
     "output_type": "stream",
     "text": [
      "Widget Javascript not detected.  It may not be installed or enabled properly.\n"
     ]
    },
    {
     "data": {
      "application/vnd.jupyter.widget-view+json": {
       "model_id": "89c1de7e4b7b4d78a38ef25b6679c97b"
      }
     },
     "metadata": {},
     "output_type": "display_data"
    },
    {
     "name": "stderr",
     "output_type": "stream",
     "text": [
      "Widget Javascript not detected.  It may not be installed or enabled properly.\n"
     ]
    },
    {
     "data": {
      "application/vnd.jupyter.widget-view+json": {
       "model_id": "1cc289124d7f46f98d9122a63ccfc94a"
      }
     },
     "metadata": {},
     "output_type": "display_data"
    }
   ],
   "source": [
    "from classifier import train_classifier\n",
    "from features import extract_features, flatten_features\n",
    "from utils.dataset import read_dataset\n",
    "from utils.preprocessing import preprocess_dataframe, extract_labels, decipher_labels, oversample_minority_classes\n",
    "from utils.scoring import print_cv_score, evaluate_submission\n",
    "from utils.splits import generate_hold_out_split"
   ]
  },
  {
   "cell_type": "code",
   "execution_count": 2,
   "metadata": {
    "collapsed": true
   },
   "outputs": [],
   "source": [
    "raw_data = read_dataset('data')\n",
    "data = preprocess_dataframe(raw_data, 'raw_data')\n",
    "labels = extract_labels(data)"
   ]
  },
  {
   "cell_type": "code",
   "execution_count": 3,
   "metadata": {
    "collapsed": true,
    "scrolled": true
   },
   "outputs": [],
   "source": [
    "features = extract_features(data, raw_data)"
   ]
  },
  {
   "cell_type": "code",
   "execution_count": 4,
   "metadata": {
    "collapsed": true
   },
   "outputs": [],
   "source": [
    "flattened_features = flatten_features(features)"
   ]
  },
  {
   "cell_type": "code",
   "execution_count": 5,
   "metadata": {
    "collapsed": true,
    "scrolled": true
   },
   "outputs": [],
   "source": [
    "training_data, testing_data, unused_data = generate_hold_out_split(raw_data)\n",
    "training_features, testing_features = flattened_features.iloc[training_data.index], flattened_features.iloc[testing_data.index]\n",
    "training_labels, testing_labels = labels.iloc[training_data.index], labels.iloc[testing_data.index]"
   ]
  },
  {
   "cell_type": "code",
   "execution_count": 6,
   "metadata": {},
   "outputs": [
    {
     "name": "stdout",
     "output_type": "stream",
     "text": [
      "Oversampling agree group...\n",
      "Oversampling disagree group...\n",
      "Oversampling discuss group...\n"
     ]
    }
   ],
   "source": [
    "oversampled_training_features, oversampled_training_labels = oversample_minority_classes(training_features, training_labels)"
   ]
  },
  {
   "cell_type": "code",
   "execution_count": 7,
   "metadata": {
    "collapsed": true
   },
   "outputs": [],
   "source": [
    "classifier = train_classifier(oversampled_training_features, oversampled_training_labels)"
   ]
  },
  {
   "cell_type": "code",
   "execution_count": 8,
   "metadata": {},
   "outputs": [
    {
     "name": "stdout",
     "output_type": "stream",
     "text": [
      "Cross validation scores: [ 0.83378747  0.8773842   0.84412033  0.84854015  0.86488971], AVG - 0.853744368432165\n"
     ]
    }
   ],
   "source": [
    "print_cv_score(classifier, training_features, training_labels, cv=5)"
   ]
  },
  {
   "cell_type": "code",
   "execution_count": 9,
   "metadata": {},
   "outputs": [
    {
     "name": "stdout",
     "output_type": "stream",
     "text": [
      "CONFUSION MATRIX:\n",
      "-------------------------------------------------------------\n",
      "|           |   agree   | disagree  |  discuss  | unrelated |\n",
      "-------------------------------------------------------------\n",
      "|   agree   |    146    |     6     |    178    |    26     |\n",
      "-------------------------------------------------------------\n",
      "| disagree  |    45     |     1     |    42     |     3     |\n",
      "-------------------------------------------------------------\n",
      "|  discuss  |    188    |     0     |    717    |    104    |\n",
      "-------------------------------------------------------------\n",
      "| unrelated |     6     |     0     |    32     |   4222    |\n",
      "-------------------------------------------------------------\n",
      "ACCURACY: 0.890\n",
      "\n",
      "MAX  - the best possible score (100% accuracy)\n",
      "NULL - score as if all predicted stances were unrelated\n",
      "TEST - score based on the provided predictions\n",
      "\n",
      "||    MAX    ||    NULL   ||    TEST   ||\n",
      "||  2521.0   ||  1065.0   ||  2034.25  ||\n",
      "\n",
      "80.6921856406188% score achieved\n"
     ]
    }
   ],
   "source": [
    "predictions = testing_data.copy()\n",
    "predictions['Stance'] = decipher_labels(classifier.predict(testing_features), index=testing_features.index)\n",
    "evaluate_submission(testing_data, predictions)"
   ]
  },
  {
   "cell_type": "code",
   "execution_count": null,
   "metadata": {},
   "outputs": [],
   "source": []
  },
  {
   "cell_type": "code",
   "execution_count": null,
   "metadata": {
    "collapsed": true
   },
   "outputs": [],
   "source": []
  }
 ],
 "metadata": {
  "anaconda-cloud": {},
  "kernelspec": {
   "display_name": "Python [conda env:fnc-1]",
   "language": "python",
   "name": "conda-env-fnc-1-py"
  },
  "language_info": {
   "codemirror_mode": {
    "name": "ipython",
    "version": 3
   },
   "file_extension": ".py",
   "mimetype": "text/x-python",
   "name": "python",
   "nbconvert_exporter": "python",
   "pygments_lexer": "ipython3",
   "version": "3.5.3"
  }
 },
 "nbformat": 4,
 "nbformat_minor": 2
}
