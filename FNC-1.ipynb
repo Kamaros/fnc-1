{
 "cells": [
  {
   "cell_type": "code",
   "execution_count": 1,
   "metadata": {
    "collapsed": true
   },
   "outputs": [],
   "source": [
    "import logging\n",
    "logging.basicConfig(format='%(asctime)s : %(levelname)s : %(message)s', level=logging.INFO)"
   ]
  },
  {
   "cell_type": "code",
   "execution_count": 2,
   "metadata": {
    "collapsed": true
   },
   "outputs": [],
   "source": [
    "from utils.dataset import Dataset\n",
    "dataset = Dataset(path='data')\n",
    "training_dataset, testing_dataset = dataset.generate_hold_out_split()\n",
    "raw_training_data = training_dataset.data\n",
    "raw_testing_data = testing_dataset.data"
   ]
  },
  {
   "cell_type": "code",
   "execution_count": 3,
   "metadata": {},
   "outputs": [
    {
     "data": {
      "application/vnd.jupyter.widget-view+json": {
       "model_id": "f25c381ab20f4e5eb5e0b573eca7d038"
      }
     },
     "metadata": {},
     "output_type": "display_data"
    }
   ],
   "source": [
    "from utils.preprocessing import preprocess_dataframe, extract_labels, decipher_labels\n",
    "training_data = preprocess_dataframe(raw_training_data, 'training_data')\n",
    "testing_data = preprocess_dataframe(raw_testing_data, 'testing_data')\n",
    "training_labels = extract_labels(training_data)\n",
    "testing_labels = extract_labels(testing_data)"
   ]
  },
  {
   "cell_type": "code",
   "execution_count": 4,
   "metadata": {},
   "outputs": [
    {
     "data": {
      "application/vnd.jupyter.widget-view+json": {
       "model_id": "20f0f9b9034546149c5cfb1c4bf7dd11"
      }
     },
     "metadata": {},
     "output_type": "display_data"
    },
    {
     "name": "stderr",
     "output_type": "stream",
     "text": [
      "2017-04-08 21:35:56,344 : INFO : 'pattern' package not found; tag filters are not available for English\n"
     ]
    },
    {
     "data": {
      "application/vnd.jupyter.widget-view+json": {
       "model_id": "ca0f42c1a9a94568add5719849943a1a"
      }
     },
     "metadata": {},
     "output_type": "display_data"
    },
    {
     "data": {
      "application/vnd.jupyter.widget-view+json": {
       "model_id": "93afe07f87ee44d182ae4299e5b7043d"
      }
     },
     "metadata": {},
     "output_type": "display_data"
    }
   ],
   "source": [
    "from features.vectorizer_features import BoWVectorizer, TfidfVectorizer, LSIVectorizer, RPVectorizer, LDAVectorizer, WordVectorCentroidVectorizer, Doc2VecVectorizer\n",
    "from features.similarity_features import CosineSimilarity, WMDSimilarity, WordOverlapSimilarity\n",
    "from features.sentiment_features import PolarityScorer, EmotionScorer"
   ]
  },
  {
   "cell_type": "code",
   "execution_count": 5,
   "metadata": {},
   "outputs": [],
   "source": [
    "training_bow = BoWVectorizer.transform(training_data, 'training_data')\n",
    "testing_bow = BoWVectorizer.transform(testing_data, 'testing_data')"
   ]
  },
  {
   "cell_type": "code",
   "execution_count": 6,
   "metadata": {},
   "outputs": [],
   "source": [
    "training_tfidf = TfidfVectorizer.transform(training_data, 'training_data')\n",
    "testing_tfidf = TfidfVectorizer.transform(testing_data, 'testing_data')"
   ]
  },
  {
   "cell_type": "code",
   "execution_count": 7,
   "metadata": {},
   "outputs": [],
   "source": [
    "training_lsi = LSIVectorizer.transform(training_data, 'training_data')\n",
    "testing_lsi = LSIVectorizer.transform(testing_data, 'testing_data')"
   ]
  },
  {
   "cell_type": "code",
   "execution_count": 8,
   "metadata": {},
   "outputs": [],
   "source": [
    "training_rp = RPVectorizer.transform(training_data, 'training_data')\n",
    "testing_rp = RPVectorizer.transform(testing_data, 'testing_data')"
   ]
  },
  {
   "cell_type": "code",
   "execution_count": 9,
   "metadata": {},
   "outputs": [],
   "source": [
    "training_lda = LDAVectorizer.transform(training_data, 'training_data')\n",
    "testing_lda = LDAVectorizer.transform(testing_data, 'testing_data')"
   ]
  },
  {
   "cell_type": "code",
   "execution_count": 10,
   "metadata": {},
   "outputs": [],
   "source": [
    "training_w2v = WordVectorCentroidVectorizer.transform(training_data, 'training_data')\n",
    "testing_w2v = WordVectorCentroidVectorizer.transform(testing_data, 'testing_data')"
   ]
  },
  {
   "cell_type": "code",
   "execution_count": 11,
   "metadata": {},
   "outputs": [],
   "source": [
    "training_d2v = Doc2VecVectorizer.transform(training_data, 'training_data')\n",
    "testing_d2v = Doc2VecVectorizer.transform(testing_data, 'testing_data')"
   ]
  },
  {
   "cell_type": "code",
   "execution_count": 12,
   "metadata": {},
   "outputs": [],
   "source": [
    "training_bow_cos = CosineSimilarity.transform(training_bow, 'training_bow')\n",
    "testing_bow_cos = CosineSimilarity.transform(testing_bow, 'testing_bow')"
   ]
  },
  {
   "cell_type": "code",
   "execution_count": 13,
   "metadata": {},
   "outputs": [],
   "source": [
    "training_tfidf_cos = CosineSimilarity.transform(training_tfidf, 'training_tfidf')\n",
    "testing_tfidf_cos = CosineSimilarity.transform(testing_tfidf, 'testing_tfidf')"
   ]
  },
  {
   "cell_type": "code",
   "execution_count": 14,
   "metadata": {},
   "outputs": [],
   "source": [
    "training_lsi_cos = CosineSimilarity.transform(training_lsi, 'training_lsi')\n",
    "testing_lsi_cos = CosineSimilarity.transform(testing_lsi, 'testing_lsi')"
   ]
  },
  {
   "cell_type": "code",
   "execution_count": 15,
   "metadata": {},
   "outputs": [],
   "source": [
    "training_rp_cos = CosineSimilarity.transform(training_rp, 'training_rp')\n",
    "testing_rp_cos = CosineSimilarity.transform(testing_rp, 'testing_rp')"
   ]
  },
  {
   "cell_type": "code",
   "execution_count": 16,
   "metadata": {},
   "outputs": [],
   "source": [
    "training_lda_cos = CosineSimilarity.transform(training_lda, 'training_lda')\n",
    "testing_lda_cos = CosineSimilarity.transform(testing_lda, 'testing_lda')"
   ]
  },
  {
   "cell_type": "code",
   "execution_count": 17,
   "metadata": {},
   "outputs": [],
   "source": [
    "training_w2v_cos = CosineSimilarity.transform(training_w2v, 'training_w2v')\n",
    "testing_w2v_cos = CosineSimilarity.transform(testing_w2v, 'testing_w2v')"
   ]
  },
  {
   "cell_type": "code",
   "execution_count": 18,
   "metadata": {},
   "outputs": [],
   "source": [
    "training_d2v_cos = CosineSimilarity.transform(training_d2v, 'training_d2v')\n",
    "testing_d2v_cos = CosineSimilarity.transform(testing_d2v, 'testing_d2v')"
   ]
  },
  {
   "cell_type": "code",
   "execution_count": 19,
   "metadata": {},
   "outputs": [],
   "source": [
    "training_wmd = WMDSimilarity.transform(training_data, 'training_data')\n",
    "testing_wmd = WMDSimilarity.transform(testing_data, 'testing_data')"
   ]
  },
  {
   "cell_type": "code",
   "execution_count": 20,
   "metadata": {},
   "outputs": [],
   "source": [
    "training_overlap = WordOverlapSimilarity.transform(training_data, 'training_data')\n",
    "testing_overlap = WordOverlapSimilarity.transform(testing_data, 'testing_data')"
   ]
  },
  {
   "cell_type": "code",
   "execution_count": 21,
   "metadata": {},
   "outputs": [],
   "source": [
    "training_polarities = PolarityScorer.transform(raw_training_data, 'training_data')\n",
    "testing_polarities = PolarityScorer.transform(raw_testing_data, 'testing_data')"
   ]
  },
  {
   "cell_type": "code",
   "execution_count": 22,
   "metadata": {},
   "outputs": [],
   "source": [
    "training_emotion = EmotionScorer.transform(training_data, 'training_data')\n",
    "testing_emotion = EmotionScorer.transform(testing_data, 'testing_data')"
   ]
  },
  {
   "cell_type": "code",
   "execution_count": 23,
   "metadata": {},
   "outputs": [],
   "source": [
    "from features import extract_features, features2matrix\n",
    "training_features = extract_features(training_data, raw_training_data, 'training')\n",
    "testing_features = extract_features(testing_data, raw_testing_data, 'testing')\n",
    "np_training_features = features2matrix(training_features)\n",
    "np_testing_features = features2matrix(testing_features)"
   ]
  },
  {
   "cell_type": "code",
   "execution_count": 24,
   "metadata": {},
   "outputs": [],
   "source": [
    "# from sklearn import tree\n",
    "# classifier = tree.DecisionTreeClassifier()\n",
    "# classifier.fit(np_training_features.getA(), training_labels)"
   ]
  },
  {
   "cell_type": "code",
   "execution_count": 25,
   "metadata": {},
   "outputs": [],
   "source": [
    "# predictions = classifier.predict(np_testing_features)"
   ]
  },
  {
   "cell_type": "code",
   "execution_count": 26,
   "metadata": {},
   "outputs": [],
   "source": [
    "# from sklearn.metrics import confusion_matrix, f1_score\n",
    "# print(confusion_matrix(testing_labels, predictions))\n",
    "# print(f1_score(testing_labels, predictions, average=None))"
   ]
  },
  {
   "cell_type": "code",
   "execution_count": 27,
   "metadata": {
    "scrolled": true
   },
   "outputs": [],
   "source": [
    "# test_labels = raw_testing_data.copy()\n",
    "# test_labels['Stance'] = decipher_labels(predictions, index=raw_testing_data.index)"
   ]
  },
  {
   "cell_type": "code",
   "execution_count": 28,
   "metadata": {},
   "outputs": [],
   "source": [
    "# from utils.scoring import evaluate_submission\n",
    "# evaluate_submission(raw_testing_data, test_labels)"
   ]
  },
  {
   "cell_type": "code",
   "execution_count": null,
   "metadata": {},
   "outputs": [],
   "source": []
  },
  {
   "cell_type": "code",
   "execution_count": null,
   "metadata": {},
   "outputs": [],
   "source": []
  },
  {
   "cell_type": "code",
   "execution_count": null,
   "metadata": {},
   "outputs": [],
   "source": []
  },
  {
   "cell_type": "code",
   "execution_count": null,
   "metadata": {
    "collapsed": true
   },
   "outputs": [],
   "source": []
  }
 ],
 "metadata": {
  "kernelspec": {
   "display_name": "Python [conda env:ml]",
   "language": "python",
   "name": "conda-env-ml-py"
  },
  "language_info": {
   "codemirror_mode": {
    "name": "ipython",
    "version": 3
   },
   "file_extension": ".py",
   "mimetype": "text/x-python",
   "name": "python",
   "nbconvert_exporter": "python",
   "pygments_lexer": "ipython3",
   "version": "3.6.1"
  }
 },
 "nbformat": 4,
 "nbformat_minor": 2
}
