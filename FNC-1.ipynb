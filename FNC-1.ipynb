{
 "cells": [
  {
   "cell_type": "code",
   "execution_count": 1,
   "metadata": {},
   "outputs": [
    {
     "data": {
      "application/vnd.jupyter.widget-view+json": {
       "model_id": "9ece0565ffd4460f9500bc8165eba4f3"
      }
     },
     "metadata": {},
     "output_type": "display_data"
    },
    {
     "data": {
      "application/vnd.jupyter.widget-view+json": {
       "model_id": "c4349d0b261e42a88e3c06149bc9c073"
      }
     },
     "metadata": {},
     "output_type": "display_data"
    },
    {
     "data": {
      "application/vnd.jupyter.widget-view+json": {
       "model_id": "ec0ce32dea8c4680b1f683f75617a6af"
      }
     },
     "metadata": {},
     "output_type": "display_data"
    },
    {
     "data": {
      "application/vnd.jupyter.widget-view+json": {
       "model_id": "9d2f0c528e80496482abd9fff55918c2"
      }
     },
     "metadata": {},
     "output_type": "display_data"
    }
   ],
   "source": [
    "from classifier import train_classifier\n",
    "from features import extract_features, flatten_features\n",
    "from utils.dataset import read_dataset\n",
    "from utils.preprocessing import preprocess_dataframe, extract_labels, decipher_labels, oversample_minority_classes\n",
    "from utils.scoring import print_cv_score, evaluate_submission\n",
    "from utils.splits import generate_hold_out_split"
   ]
  },
  {
   "cell_type": "code",
   "execution_count": 2,
   "metadata": {
    "collapsed": true
   },
   "outputs": [],
   "source": [
    "raw_data = read_dataset('data')\n",
    "data = preprocess_dataframe(raw_data, 'raw_data')\n",
    "labels = extract_labels(data)"
   ]
  },
  {
   "cell_type": "code",
   "execution_count": 3,
   "metadata": {
    "collapsed": true,
    "scrolled": true
   },
   "outputs": [],
   "source": [
    "features = extract_features(data, raw_data)"
   ]
  },
  {
   "cell_type": "code",
   "execution_count": 4,
   "metadata": {},
   "outputs": [],
   "source": [
    "features = features.drop(['Word Overlap'], axis=1)"
   ]
  },
  {
   "cell_type": "code",
   "execution_count": 5,
   "metadata": {},
   "outputs": [],
   "source": [
    "flattened_features = flatten_features(features)"
   ]
  },
  {
   "cell_type": "code",
   "execution_count": 6,
   "metadata": {
    "collapsed": true,
    "scrolled": true
   },
   "outputs": [],
   "source": [
    "training_data, testing_data, unused_data = generate_hold_out_split(raw_data)\n",
    "training_features, testing_features = flattened_features.iloc[training_data.index], flattened_features.iloc[testing_data.index]\n",
    "training_labels, testing_labels = labels.iloc[training_data.index], labels.iloc[testing_data.index]"
   ]
  },
  {
   "cell_type": "code",
   "execution_count": 7,
   "metadata": {
    "scrolled": true
   },
   "outputs": [
    {
     "name": "stdout",
     "output_type": "stream",
     "text": [
      "Oversampling agree group...\n",
      "Oversampling disagree group...\n",
      "Oversampling discuss group...\n"
     ]
    }
   ],
   "source": [
    "oversampled_training_features, oversampled_training_labels = oversample_minority_classes(training_features, training_labels)"
   ]
  },
  {
   "cell_type": "code",
   "execution_count": 8,
   "metadata": {
    "collapsed": true
   },
   "outputs": [],
   "source": [
    "classifier = train_classifier(oversampled_training_features, oversampled_training_labels)"
   ]
  },
  {
   "cell_type": "code",
   "execution_count": 9,
   "metadata": {
    "scrolled": true
   },
   "outputs": [
    {
     "name": "stdout",
     "output_type": "stream",
     "text": [
      "CONFUSION MATRIX:\n",
      "-------------------------------------------------------------\n",
      "|           |   agree   | disagree  |  discuss  | unrelated |\n",
      "-------------------------------------------------------------\n",
      "|   agree   |    134    |     5     |    167    |    12     |\n",
      "-------------------------------------------------------------\n",
      "| disagree  |    46     |     3     |    37     |     4     |\n",
      "-------------------------------------------------------------\n",
      "|  discuss  |    162    |    11     |    672    |    46     |\n",
      "-------------------------------------------------------------\n",
      "| unrelated |     1     |     0     |    14     |   3506    |\n",
      "-------------------------------------------------------------\n",
      "ACCURACY: 0.895\n",
      "\n",
      "MAX  - the best possible score (100% accuracy)\n",
      "NULL - score as if all predicted stances were unrelated\n",
      "TEST - score based on the provided predictions\n",
      "\n",
      "||    MAX    ||    NULL   ||    TEST   ||\n",
      "||  2179.25  ||  880.25   ||  1792.5   ||\n",
      "\n",
      "82.25306871630148% score achieved\n"
     ]
    }
   ],
   "source": [
    "predictions = testing_data.copy()\n",
    "predictions['Stance'] = decipher_labels(classifier.predict(testing_features), index=testing_features.index)\n",
    "evaluate_submission(testing_data, predictions)"
   ]
  },
  {
   "cell_type": "code",
   "execution_count": 35,
   "metadata": {},
   "outputs": [
    {
     "data": {
      "text/plain": [
       "Index(['articleBody LSI 299', 'articleBody LDA 99', 'tf-idf Cosine Similarity',\n",
       "       'Word Mover's Distance', 'doc2vec Cosine Similarity',\n",
       "       'articleBody BoW 1999', 'articleBody Mean Word Vector 2',\n",
       "       'articleBody BoW 1266', 'Headline RP 4', 'articleBody LSI 0',\n",
       "       'Headline LSI 108', 'articleBody LSI 207', 'Headline RP 133',\n",
       "       'articleBody LSI 286', 'articleBody RP 110', 'Headline doc2vec 42',\n",
       "       'articleBody tf-idf 1999', 'articleBody LSI 283', 'articleBody RP 299',\n",
       "       'articleBody BoW 486'],\n",
       "      dtype='object')"
      ]
     },
     "execution_count": 35,
     "metadata": {},
     "output_type": "execute_result"
    }
   ],
   "source": [
    "# print_cv_score(classifier, training_features, training_labels, cv=5)\n",
    "import numpy as np\n",
    "feature_idx = np.argsort(classifier.feature_importances_[1:])[::-1]\n",
    "# flattened_features.columns.to_series()[feature_idx]\n",
    "# flattened_features.columns[feature_idx]\n",
    "flattened_features.columns[feature_idx][0:20]"
   ]
  },
  {
   "cell_type": "code",
   "execution_count": null,
   "metadata": {
    "collapsed": true
   },
   "outputs": [],
   "source": []
  }
 ],
 "metadata": {
  "anaconda-cloud": {},
  "kernelspec": {
   "display_name": "Python [conda env:fnc-1]",
   "language": "python",
   "name": "conda-env-fnc-1-py"
  },
  "language_info": {
   "codemirror_mode": {
    "name": "ipython",
    "version": 3
   },
   "file_extension": ".py",
   "mimetype": "text/x-python",
   "name": "python",
   "nbconvert_exporter": "python",
   "pygments_lexer": "ipython3",
   "version": "3.5.3"
  }
 },
 "nbformat": 4,
 "nbformat_minor": 2
}
