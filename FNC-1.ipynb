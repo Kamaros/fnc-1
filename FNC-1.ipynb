{
 "cells": [
  {
   "cell_type": "code",
   "execution_count": 1,
   "metadata": {
    "collapsed": true
   },
   "outputs": [],
   "source": [
    "from utils.dataset import read_dataset, generate_hold_out_split\n",
    "data = read_dataset('data')\n",
    "raw_training_data, raw_testing_data = generate_hold_out_split(data)\n",
    "del data"
   ]
  },
  {
   "cell_type": "code",
   "execution_count": 2,
   "metadata": {},
   "outputs": [
    {
     "data": {
      "application/vnd.jupyter.widget-view+json": {
       "model_id": "a3e5b859d5924cc9973eb9368f2c3edf"
      }
     },
     "metadata": {},
     "output_type": "display_data"
    }
   ],
   "source": [
    "from utils.preprocessing import preprocess_dataframe, extract_labels, decipher_labels\n",
    "training_data = preprocess_dataframe(raw_training_data, 'training_data')\n",
    "testing_data = preprocess_dataframe(raw_testing_data, 'testing_data')\n",
    "training_labels = extract_labels(training_data)\n",
    "testing_labels = extract_labels(testing_data)"
   ]
  },
  {
   "cell_type": "code",
   "execution_count": 3,
   "metadata": {},
   "outputs": [
    {
     "data": {
      "application/vnd.jupyter.widget-view+json": {
       "model_id": "f9b02f0236e744f4a50bad762e8a0c10"
      }
     },
     "metadata": {},
     "output_type": "display_data"
    },
    {
     "data": {
      "application/vnd.jupyter.widget-view+json": {
       "model_id": "c117c595940a49d9868e70b88e7a873e"
      }
     },
     "metadata": {},
     "output_type": "display_data"
    },
    {
     "data": {
      "application/vnd.jupyter.widget-view+json": {
       "model_id": "7e7a06d49d904f5883dcbbbf6a7b1f35"
      }
     },
     "metadata": {},
     "output_type": "display_data"
    }
   ],
   "source": [
    "from features import extract_features\n",
    "training_features = extract_features(training_data, raw_training_data, 'training')\n",
    "testing_features = extract_features(testing_data, raw_testing_data, 'testing')"
   ]
  },
  {
   "cell_type": "code",
   "execution_count": 4,
   "metadata": {},
   "outputs": [],
   "source": [
    "import pandas as pd\n",
    "from sklearn.model_selection import train_test_split\n",
    "data = pd.concat([training_data, testing_data])\n",
    "body_ids = list(set(data['Body ID']))\n",
    "train_body_ids, test_body_ids = train_test_split(body_ids, train_size=0.8)\n",
    "test_set = data[data['Body ID'].isin(test_body_ids)]\n",
    "test_headlines = list(set(test_set['Headline']))\n",
    "train_set = data[data['Body ID'].isin(train_body_ids)]\n",
    "train_set = train_set[~train_set['Headline'].isin(test_headlines)]\n",
    "train_labels = extract_labels(train_set)\n",
    "test_labels = extract_labels(test_set)"
   ]
  },
  {
   "cell_type": "code",
   "execution_count": 5,
   "metadata": {},
   "outputs": [],
   "source": [
    "features = pd.concat([training_features, testing_features])\n",
    "train_features = features.ix[train_set.index]\n",
    "test_features = features.ix[test_set.index]"
   ]
  },
  {
   "cell_type": "code",
   "execution_count": 6,
   "metadata": {},
   "outputs": [
    {
     "name": "stderr",
     "output_type": "stream",
     "text": [
      "/Users/eric/miniconda3/envs/fnc-1/lib/python3.5/site-packages/lightgbm-0.1-py3.5.egg/lightgbm/engine.py:163: UserWarning: Using Pandas (default) integer column names, not column indexes. You can use indexes with DataFrame.values.\n",
      "  booster = Booster(params=params, train_set=train_set)\n",
      "/Users/eric/miniconda3/envs/fnc-1/lib/python3.5/json/encoder.py:198: DeprecationWarning: Interpreting naive datetime as local 2017-04-14 17:21:44.601886. Please add timezone info to timestamps.\n",
      "  chunks = self.iterencode(o, _one_shot=True)\n"
     ]
    }
   ],
   "source": [
    "from features import flatten_features\n",
    "flattened_train_features = flatten_features(train_features)\n",
    "flattened_test_features = flatten_features(test_features)\n",
    "from classifier import train_classifier\n",
    "clf = train_classifier(flattened_train_features, train_labels)"
   ]
  },
  {
   "cell_type": "code",
   "execution_count": 7,
   "metadata": {
    "scrolled": true
   },
   "outputs": [
    {
     "name": "stderr",
     "output_type": "stream",
     "text": [
      "/Users/eric/miniconda3/envs/fnc-1/lib/python3.5/site-packages/lightgbm-0.1-py3.5.egg/lightgbm/sklearn.py:598: UserWarning: Using Pandas (default) integer column names, not column indexes. You can use indexes with DataFrame.values.\n",
      "  class_probs = self.predict_proba(X, raw_score, num_iteration)\n"
     ]
    },
    {
     "name": "stdout",
     "output_type": "stream",
     "text": [
      "CONFUSION MATRIX:\n",
      "-------------------------------------------------------------\n",
      "|           |   agree   | disagree  |  discuss  | unrelated |\n",
      "-------------------------------------------------------------\n",
      "|   agree   |    552    |     0     |    206    |    43     |\n",
      "-------------------------------------------------------------\n",
      "| disagree  |    92     |     0     |    31     |     3     |\n",
      "-------------------------------------------------------------\n",
      "|  discuss  |    695    |     0     |    833    |    157    |\n",
      "-------------------------------------------------------------\n",
      "| unrelated |    46     |     0     |    29     |   7467    |\n",
      "-------------------------------------------------------------\n",
      "ACCURACY: 0.872\n",
      "\n",
      "MAX  - the best possible score (100% accuracy)\n",
      "NULL - score as if all predicted stances were unrelated\n",
      "TEST - score based on the provided predictions\n",
      "\n",
      "||    MAX    ||    NULL   ||    TEST   ||\n",
      "||  4497.5   ||  1885.5   ||  3507.75  ||\n",
      "\n",
      "77.99332962757087% score achieved\n"
     ]
    },
    {
     "name": "stderr",
     "output_type": "stream",
     "text": [
      "/Users/eric/miniconda3/envs/fnc-1/lib/python3.5/json/encoder.py:198: DeprecationWarning: Interpreting naive datetime as local 2017-04-14 17:21:49.134630. Please add timezone info to timestamps.\n",
      "  chunks = self.iterencode(o, _one_shot=True)\n"
     ]
    }
   ],
   "source": [
    "from utils.scoring import evaluate_submission\n",
    "predictions = test_set.copy()\n",
    "predictions['Stance'] = decipher_labels(clf.predict(flattened_test_features), index=test_features.index)\n",
    "evaluate_submission(test_set, predictions)"
   ]
  },
  {
   "cell_type": "code",
   "execution_count": null,
   "metadata": {
    "collapsed": true
   },
   "outputs": [],
   "source": []
  },
  {
   "cell_type": "code",
   "execution_count": null,
   "metadata": {
    "collapsed": true
   },
   "outputs": [],
   "source": []
  },
  {
   "cell_type": "code",
   "execution_count": null,
   "metadata": {
    "collapsed": true
   },
   "outputs": [],
   "source": []
  },
  {
   "cell_type": "code",
   "execution_count": null,
   "metadata": {
    "scrolled": true
   },
   "outputs": [],
   "source": []
  },
  {
   "cell_type": "code",
   "execution_count": null,
   "metadata": {},
   "outputs": [],
   "source": []
  },
  {
   "cell_type": "code",
   "execution_count": null,
   "metadata": {
    "scrolled": true
   },
   "outputs": [],
   "source": []
  },
  {
   "cell_type": "code",
   "execution_count": null,
   "metadata": {
    "collapsed": true
   },
   "outputs": [],
   "source": []
  },
  {
   "cell_type": "code",
   "execution_count": null,
   "metadata": {
    "collapsed": true
   },
   "outputs": [],
   "source": []
  },
  {
   "cell_type": "code",
   "execution_count": null,
   "metadata": {
    "collapsed": true
   },
   "outputs": [],
   "source": []
  },
  {
   "cell_type": "code",
   "execution_count": null,
   "metadata": {
    "collapsed": true
   },
   "outputs": [],
   "source": []
  }
 ],
 "metadata": {
  "anaconda-cloud": {},
  "kernelspec": {
   "display_name": "Python [conda env:fnc-1]",
   "language": "python",
   "name": "conda-env-fnc-1-py"
  },
  "language_info": {
   "codemirror_mode": {
    "name": "ipython",
    "version": 3
   },
   "file_extension": ".py",
   "mimetype": "text/x-python",
   "name": "python",
   "nbconvert_exporter": "python",
   "pygments_lexer": "ipython3",
   "version": "3.5.3"
  }
 },
 "nbformat": 4,
 "nbformat_minor": 2
}
